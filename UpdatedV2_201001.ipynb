{
  "nbformat": 4,
  "nbformat_minor": 0,
  "metadata": {
    "colab": {
      "name": "Copy1 of UpdatedV2-200928.ipynb",
      "provenance": [],
      "collapsed_sections": []
    },
    "kernelspec": {
      "name": "python3",
      "display_name": "Python 3"
    }
  },
  "cells": [
    {
      "cell_type": "markdown",
      "metadata": {
        "id": "wKuPdg7VvOHo"
      },
      "source": [
        "### Regression and Classification Based On Indicators:\n",
        "\n",
        "- Classifier Model: Price increasing [1;0] or decreasing [0;1]\n",
        "- Regression Model: Predict next trading day price\n"
      ]
    },
    {
      "cell_type": "markdown",
      "metadata": {
        "id": "EnKzNRHkuXX3"
      },
      "source": [
        "### Weekly Goal: \n",
        "\n",
        "1. VWAP_mean[y_pred] change to reurn_label\n",
        "2. Strategy_return should based on model buit\n",
        "3. Save the model for 324 before y_pred. And get the y then do y_pred, strategy_return, cumsum, cumprod\n",
        "4. Continue, --- rmse, range of error, /categorical --- repot_metrics. standerd, f1/\n",
        "5. x, TIME(T) , Y (T+1) --- take x giving what you know about x to predict y (10 second later)"
      ]
    },
    {
      "cell_type": "code",
      "metadata": {
        "id": "lF7Jx3rru7Vt",
        "outputId": "2666a2dd-ed64-4d08-ba92-f4455f7e0e7b",
        "colab": {
          "base_uri": "https://localhost:8080/",
          "height": 68
        }
      },
      "source": [
        "%pylab inline\n",
        "import pandas as pd\n",
        "import numpy as np\n",
        "import datetime\n",
        "import pandas_datareader.data as web\n",
        "import pprint\n",
        "import statsmodels.tsa.stattools as ts\n",
        "import statsmodels.api as sm\n",
        "import matplotlib.dates as mdates\n",
        "import matplotlib.pyplot as plt\n",
        "from matplotlib import style\n",
        "import matplotlib as mpl\n",
        "\n",
        "\n",
        "%matplotlib inline"
      ],
      "execution_count": 1,
      "outputs": [
        {
          "output_type": "stream",
          "text": [
            "Populating the interactive namespace from numpy and matplotlib\n"
          ],
          "name": "stdout"
        },
        {
          "output_type": "stream",
          "text": [
            "/usr/local/lib/python3.6/dist-packages/statsmodels/tools/_testing.py:19: FutureWarning: pandas.util.testing is deprecated. Use the functions in the public API at pandas.testing instead.\n",
            "  import pandas.util.testing as tm\n"
          ],
          "name": "stderr"
        }
      ]
    },
    {
      "cell_type": "code",
      "metadata": {
        "id": "IoC235SVvWEm"
      },
      "source": [
        "# install pydrive to load data\n",
        "#!pip install -U -q PyDrive\n",
        "\n",
        "from pydrive.auth import GoogleAuth\n",
        "from pydrive.drive import GoogleDrive\n",
        "from google.colab import auth\n",
        "from oauth2client.client import GoogleCredentials\n",
        "\n",
        "auth.authenticate_user()\n",
        "gauth = GoogleAuth()\n",
        "gauth.credentials = GoogleCredentials.get_application_default()\n",
        "drive = GoogleDrive(gauth)"
      ],
      "execution_count": 2,
      "outputs": []
    },
    {
      "cell_type": "code",
      "metadata": {
        "id": "S0uKrnQfvkC1"
      },
      "source": [
        "id = \"1_71asScU8XI31EIcWF_ikPj0ihvcgfOu\"  \n",
        "file = drive.CreateFile({'id':id}) \n",
        "file.GetContentFile('DOW20200323') \n",
        "\n",
        "id = \"1raZfnsw8fsxxHQ5e5oFIM-zmmXiiWKCX\"  \n",
        "file = drive.CreateFile({'id':id}) \n",
        "file.GetContentFile('DOW20200324') "
      ],
      "execution_count": 3,
      "outputs": []
    },
    {
      "cell_type": "code",
      "metadata": {
        "id": "6Kxzv9MnvnO8",
        "outputId": "e15a47b2-c400-441f-df0c-c973bf805457",
        "colab": {
          "base_uri": "https://localhost:8080/",
          "height": 578
        }
      },
      "source": [
        "import pandas as pd\n",
        "\n",
        "dow_324 = pd.read_csv('DOW20200324')\n",
        "dow_323 = pd.read_csv('DOW20200323')\n",
        "dow_323.info()"
      ],
      "execution_count": 4,
      "outputs": [
        {
          "output_type": "stream",
          "text": [
            "<class 'pandas.core.frame.DataFrame'>\n",
            "RangeIndex: 78070 entries, 0 to 78069\n",
            "Data columns (total 26 columns):\n",
            " #   Column          Non-Null Count  Dtype  \n",
            "---  ------          --------------  -----  \n",
            " 0   symbol          78070 non-null  object \n",
            " 1   timestamp       78070 non-null  object \n",
            " 2   bid_price       74723 non-null  float64\n",
            " 3   bid_size        74723 non-null  float64\n",
            " 4   bid_price_lag   74723 non-null  float64\n",
            " 5   bid_size_lag    74723 non-null  float64\n",
            " 6   V_of_B          74723 non-null  float64\n",
            " 7   ask_price       74723 non-null  float64\n",
            " 8   ask_size        74723 non-null  float64\n",
            " 9   ask_price_lag   74723 non-null  float64\n",
            " 10  ask_size_lag    74723 non-null  float64\n",
            " 11  V_of_A          74723 non-null  float64\n",
            " 12  VOI             74723 non-null  float64\n",
            " 13  OIR             74723 non-null  float64\n",
            " 14  bid_ask_spread  74723 non-null  float64\n",
            " 15  VWAP_max        77455 non-null  float64\n",
            " 16  VWAP_mean       77455 non-null  float64\n",
            " 17  VWAP_min        77455 non-null  float64\n",
            " 18  size_mean       77455 non-null  float64\n",
            " 19  EWM             77455 non-null  float64\n",
            " 20  RSI             63955 non-null  float64\n",
            " 21  Stochastic      64917 non-null  float64\n",
            " 22  WilliamsR       64917 non-null  float64\n",
            " 23  MACD            77455 non-null  float64\n",
            " 24  Signal_line     77455 non-null  float64\n",
            " 25  OBV             78070 non-null  float64\n",
            "dtypes: float64(24), object(2)\n",
            "memory usage: 15.5+ MB\n"
          ],
          "name": "stdout"
        }
      ]
    },
    {
      "cell_type": "code",
      "metadata": {
        "id": "bwYh8BSCv5dO",
        "outputId": "11af3c90-f12a-4149-eb9f-60156269be80",
        "colab": {
          "base_uri": "https://localhost:8080/",
          "height": 34
        }
      },
      "source": [
        "dow_323.shape"
      ],
      "execution_count": 5,
      "outputs": [
        {
          "output_type": "execute_result",
          "data": {
            "text/plain": [
              "(78070, 26)"
            ]
          },
          "metadata": {
            "tags": []
          },
          "execution_count": 5
        }
      ]
    },
    {
      "cell_type": "code",
      "metadata": {
        "id": "tjF8oyhAv_9n",
        "outputId": "126c95ee-0ad5-4df3-a3d6-ed743becc8fb",
        "colab": {
          "base_uri": "https://localhost:8080/",
          "height": 578
        }
      },
      "source": [
        "dow_323.info()"
      ],
      "execution_count": 6,
      "outputs": [
        {
          "output_type": "stream",
          "text": [
            "<class 'pandas.core.frame.DataFrame'>\n",
            "RangeIndex: 78070 entries, 0 to 78069\n",
            "Data columns (total 26 columns):\n",
            " #   Column          Non-Null Count  Dtype  \n",
            "---  ------          --------------  -----  \n",
            " 0   symbol          78070 non-null  object \n",
            " 1   timestamp       78070 non-null  object \n",
            " 2   bid_price       74723 non-null  float64\n",
            " 3   bid_size        74723 non-null  float64\n",
            " 4   bid_price_lag   74723 non-null  float64\n",
            " 5   bid_size_lag    74723 non-null  float64\n",
            " 6   V_of_B          74723 non-null  float64\n",
            " 7   ask_price       74723 non-null  float64\n",
            " 8   ask_size        74723 non-null  float64\n",
            " 9   ask_price_lag   74723 non-null  float64\n",
            " 10  ask_size_lag    74723 non-null  float64\n",
            " 11  V_of_A          74723 non-null  float64\n",
            " 12  VOI             74723 non-null  float64\n",
            " 13  OIR             74723 non-null  float64\n",
            " 14  bid_ask_spread  74723 non-null  float64\n",
            " 15  VWAP_max        77455 non-null  float64\n",
            " 16  VWAP_mean       77455 non-null  float64\n",
            " 17  VWAP_min        77455 non-null  float64\n",
            " 18  size_mean       77455 non-null  float64\n",
            " 19  EWM             77455 non-null  float64\n",
            " 20  RSI             63955 non-null  float64\n",
            " 21  Stochastic      64917 non-null  float64\n",
            " 22  WilliamsR       64917 non-null  float64\n",
            " 23  MACD            77455 non-null  float64\n",
            " 24  Signal_line     77455 non-null  float64\n",
            " 25  OBV             78070 non-null  float64\n",
            "dtypes: float64(24), object(2)\n",
            "memory usage: 15.5+ MB\n"
          ],
          "name": "stdout"
        }
      ]
    },
    {
      "cell_type": "code",
      "metadata": {
        "id": "1elyUrn8wTUh"
      },
      "source": [
        "dow_323 = dow_323.replace([np.inf, -np.inf], np.nan)\n",
        "dow_324 = dow_324.replace([np.inf, -np.inf], np.nan)"
      ],
      "execution_count": 7,
      "outputs": []
    },
    {
      "cell_type": "markdown",
      "metadata": {
        "id": "MZYcGSdm4MkH"
      },
      "source": [
        "### Features pre-processing:\n",
        "1. Convert VWAP_Mean to Percentage change\n",
        "2. Change 'VWAP_Mean' to 'Returen'\n",
        "3. Keep VOI, OIR, bid_ask_spread, EWM, RSI, OBV"
      ]
    },
    {
      "cell_type": "code",
      "metadata": {
        "id": "WvHcqhA9iyKj"
      },
      "source": [
        "#1. Convert VWAP_Mean to Percentage change\n",
        "# we use the forward fill method to \n",
        "# fill the missing values in the dataframe \n",
        "dow_323['vwap_next10s'] = dow_323['VWAP_mean'].shift(-1)"
      ],
      "execution_count": 8,
      "outputs": []
    },
    {
      "cell_type": "code",
      "metadata": {
        "id": "Bx9sZs_G7fFp"
      },
      "source": [
        "dow_324['vwap_next10s'] = dow_324['VWAP_mean'].shift(-1)"
      ],
      "execution_count": 9,
      "outputs": []
    },
    {
      "cell_type": "code",
      "metadata": {
        "id": "svzacA1vDGEo"
      },
      "source": [
        "dow_323['diff'] = dow_323['vwap_next10s'] - dow_323['VWAP_mean']\n",
        "dow_324['diff'] = dow_324['vwap_next10s'] - dow_324['VWAP_mean']"
      ],
      "execution_count": 10,
      "outputs": []
    },
    {
      "cell_type": "code",
      "metadata": {
        "id": "DvHynbskDrpZ"
      },
      "source": [
        "#if prediction>0, signal is 1, otherwise -1\n",
        "dow_323['return_label'] = dow_323['diff'].apply(lambda x: 1 if x>0 else -1)\n",
        "dow_324['return_label'] = dow_324['diff'].apply(lambda x: 1 if x>0 else -1)"
      ],
      "execution_count": 11,
      "outputs": []
    },
    {
      "cell_type": "code",
      "metadata": {
        "id": "7xBVIuOH0JhA"
      },
      "source": [
        "#dow_323.head(20)"
      ],
      "execution_count": 12,
      "outputs": []
    },
    {
      "cell_type": "code",
      "metadata": {
        "id": "GzIxs2vopi3H",
        "outputId": "35ba0b6a-c7fb-4c33-92c2-983954ccd929",
        "colab": {
          "base_uri": "https://localhost:8080/",
          "height": 489
        }
      },
      "source": [
        "dow_323.describe([0.05, 0.08, 0.1, 0.95,0.96,0.97,0.98])"
      ],
      "execution_count": 13,
      "outputs": [
        {
          "output_type": "execute_result",
          "data": {
            "text/html": [
              "<div>\n",
              "<style scoped>\n",
              "    .dataframe tbody tr th:only-of-type {\n",
              "        vertical-align: middle;\n",
              "    }\n",
              "\n",
              "    .dataframe tbody tr th {\n",
              "        vertical-align: top;\n",
              "    }\n",
              "\n",
              "    .dataframe thead th {\n",
              "        text-align: right;\n",
              "    }\n",
              "</style>\n",
              "<table border=\"1\" class=\"dataframe\">\n",
              "  <thead>\n",
              "    <tr style=\"text-align: right;\">\n",
              "      <th></th>\n",
              "      <th>bid_price</th>\n",
              "      <th>bid_size</th>\n",
              "      <th>bid_price_lag</th>\n",
              "      <th>bid_size_lag</th>\n",
              "      <th>V_of_B</th>\n",
              "      <th>ask_price</th>\n",
              "      <th>ask_size</th>\n",
              "      <th>ask_price_lag</th>\n",
              "      <th>ask_size_lag</th>\n",
              "      <th>V_of_A</th>\n",
              "      <th>VOI</th>\n",
              "      <th>OIR</th>\n",
              "      <th>bid_ask_spread</th>\n",
              "      <th>VWAP_max</th>\n",
              "      <th>VWAP_mean</th>\n",
              "      <th>VWAP_min</th>\n",
              "      <th>size_mean</th>\n",
              "      <th>EWM</th>\n",
              "      <th>RSI</th>\n",
              "      <th>Stochastic</th>\n",
              "      <th>WilliamsR</th>\n",
              "      <th>MACD</th>\n",
              "      <th>Signal_line</th>\n",
              "      <th>OBV</th>\n",
              "      <th>vwap_next10s</th>\n",
              "      <th>diff</th>\n",
              "      <th>return_label</th>\n",
              "    </tr>\n",
              "  </thead>\n",
              "  <tbody>\n",
              "    <tr>\n",
              "      <th>count</th>\n",
              "      <td>74723.000000</td>\n",
              "      <td>74723.000000</td>\n",
              "      <td>74723.000000</td>\n",
              "      <td>74723.000000</td>\n",
              "      <td>74723.000000</td>\n",
              "      <td>74723.000000</td>\n",
              "      <td>74723.000000</td>\n",
              "      <td>74723.000000</td>\n",
              "      <td>74723.000000</td>\n",
              "      <td>74723.000000</td>\n",
              "      <td>74723.000000</td>\n",
              "      <td>74723.000000</td>\n",
              "      <td>74723.000000</td>\n",
              "      <td>77455.000000</td>\n",
              "      <td>77455.000000</td>\n",
              "      <td>77455.000000</td>\n",
              "      <td>77455.000000</td>\n",
              "      <td>77455.000000</td>\n",
              "      <td>63955.000000</td>\n",
              "      <td>6.455900e+04</td>\n",
              "      <td>6.455900e+04</td>\n",
              "      <td>77455.000000</td>\n",
              "      <td>77455.000000</td>\n",
              "      <td>78070.000000</td>\n",
              "      <td>77454.000000</td>\n",
              "      <td>77447.000000</td>\n",
              "      <td>78070.000000</td>\n",
              "    </tr>\n",
              "    <tr>\n",
              "      <th>mean</th>\n",
              "      <td>93.412821</td>\n",
              "      <td>112.454920</td>\n",
              "      <td>-0.002601</td>\n",
              "      <td>-0.028586</td>\n",
              "      <td>14.588333</td>\n",
              "      <td>94.231701</td>\n",
              "      <td>105.392249</td>\n",
              "      <td>0.000792</td>\n",
              "      <td>-0.220173</td>\n",
              "      <td>9.020877</td>\n",
              "      <td>5.567456</td>\n",
              "      <td>0.043119</td>\n",
              "      <td>0.818880</td>\n",
              "      <td>95.260728</td>\n",
              "      <td>95.256918</td>\n",
              "      <td>95.253042</td>\n",
              "      <td>54.182339</td>\n",
              "      <td>94.555297</td>\n",
              "      <td>33.973969</td>\n",
              "      <td>3.513843e+01</td>\n",
              "      <td>-6.486157e+01</td>\n",
              "      <td>-0.017311</td>\n",
              "      <td>-0.017305</td>\n",
              "      <td>-7.830317</td>\n",
              "      <td>95.255165</td>\n",
              "      <td>-0.001917</td>\n",
              "      <td>-0.737646</td>\n",
              "    </tr>\n",
              "    <tr>\n",
              "      <th>std</th>\n",
              "      <td>50.846258</td>\n",
              "      <td>395.273779</td>\n",
              "      <td>1.219997</td>\n",
              "      <td>417.260809</td>\n",
              "      <td>292.771157</td>\n",
              "      <td>51.416378</td>\n",
              "      <td>362.328895</td>\n",
              "      <td>1.672197</td>\n",
              "      <td>263.353071</td>\n",
              "      <td>97.777248</td>\n",
              "      <td>306.617191</td>\n",
              "      <td>0.636003</td>\n",
              "      <td>6.730268</td>\n",
              "      <td>52.178345</td>\n",
              "      <td>52.174358</td>\n",
              "      <td>52.170415</td>\n",
              "      <td>83.897781</td>\n",
              "      <td>51.692163</td>\n",
              "      <td>45.956916</td>\n",
              "      <td>4.401365e+01</td>\n",
              "      <td>4.401365e+01</td>\n",
              "      <td>0.193553</td>\n",
              "      <td>0.185812</td>\n",
              "      <td>75.301185</td>\n",
              "      <td>52.172414</td>\n",
              "      <td>1.330974</td>\n",
              "      <td>0.675192</td>\n",
              "    </tr>\n",
              "    <tr>\n",
              "      <th>min</th>\n",
              "      <td>21.800000</td>\n",
              "      <td>0.000000</td>\n",
              "      <td>-199.930000</td>\n",
              "      <td>-71206.000000</td>\n",
              "      <td>-7873.000000</td>\n",
              "      <td>26.270000</td>\n",
              "      <td>0.000000</td>\n",
              "      <td>-217.710000</td>\n",
              "      <td>-39363.000000</td>\n",
              "      <td>-8613.000000</td>\n",
              "      <td>-8513.000000</td>\n",
              "      <td>-1.000000</td>\n",
              "      <td>-6.210000</td>\n",
              "      <td>26.210000</td>\n",
              "      <td>26.117778</td>\n",
              "      <td>25.933333</td>\n",
              "      <td>0.000000</td>\n",
              "      <td>26.095461</td>\n",
              "      <td>0.000000</td>\n",
              "      <td>-5.434134e-10</td>\n",
              "      <td>-1.000000e+02</td>\n",
              "      <td>-3.807692</td>\n",
              "      <td>-3.412256</td>\n",
              "      <td>-4399.000000</td>\n",
              "      <td>26.117778</td>\n",
              "      <td>-139.960715</td>\n",
              "      <td>-1.000000</td>\n",
              "    </tr>\n",
              "    <tr>\n",
              "      <th>5%</th>\n",
              "      <td>28.590000</td>\n",
              "      <td>0.000000</td>\n",
              "      <td>-0.080000</td>\n",
              "      <td>-75.000000</td>\n",
              "      <td>0.000000</td>\n",
              "      <td>28.660000</td>\n",
              "      <td>0.000000</td>\n",
              "      <td>-0.100000</td>\n",
              "      <td>0.000000</td>\n",
              "      <td>0.000000</td>\n",
              "      <td>-100.000000</td>\n",
              "      <td>-1.000000</td>\n",
              "      <td>-0.690000</td>\n",
              "      <td>28.644865</td>\n",
              "      <td>28.644712</td>\n",
              "      <td>28.644342</td>\n",
              "      <td>0.000000</td>\n",
              "      <td>28.715550</td>\n",
              "      <td>0.000000</td>\n",
              "      <td>0.000000e+00</td>\n",
              "      <td>-1.000000e+02</td>\n",
              "      <td>-0.096779</td>\n",
              "      <td>-0.097993</td>\n",
              "      <td>-99.000000</td>\n",
              "      <td>28.644710</td>\n",
              "      <td>-0.006063</td>\n",
              "      <td>-1.000000</td>\n",
              "    </tr>\n",
              "    <tr>\n",
              "      <th>8%</th>\n",
              "      <td>30.980000</td>\n",
              "      <td>0.000000</td>\n",
              "      <td>-0.030000</td>\n",
              "      <td>0.000000</td>\n",
              "      <td>0.000000</td>\n",
              "      <td>31.010000</td>\n",
              "      <td>0.000000</td>\n",
              "      <td>-0.030000</td>\n",
              "      <td>0.000000</td>\n",
              "      <td>0.000000</td>\n",
              "      <td>-100.000000</td>\n",
              "      <td>-1.000000</td>\n",
              "      <td>-0.470000</td>\n",
              "      <td>30.942609</td>\n",
              "      <td>30.942590</td>\n",
              "      <td>30.942590</td>\n",
              "      <td>0.000000</td>\n",
              "      <td>31.032694</td>\n",
              "      <td>0.000000</td>\n",
              "      <td>0.000000e+00</td>\n",
              "      <td>-1.000000e+02</td>\n",
              "      <td>-0.058876</td>\n",
              "      <td>-0.059299</td>\n",
              "      <td>-77.028860</td>\n",
              "      <td>30.942590</td>\n",
              "      <td>-0.003245</td>\n",
              "      <td>-1.000000</td>\n",
              "    </tr>\n",
              "    <tr>\n",
              "      <th>10%</th>\n",
              "      <td>32.360000</td>\n",
              "      <td>0.000000</td>\n",
              "      <td>-0.010000</td>\n",
              "      <td>0.000000</td>\n",
              "      <td>0.000000</td>\n",
              "      <td>33.150000</td>\n",
              "      <td>0.000000</td>\n",
              "      <td>-0.020000</td>\n",
              "      <td>0.000000</td>\n",
              "      <td>0.000000</td>\n",
              "      <td>0.000000</td>\n",
              "      <td>-1.000000</td>\n",
              "      <td>-0.370000</td>\n",
              "      <td>33.125000</td>\n",
              "      <td>33.125000</td>\n",
              "      <td>33.125000</td>\n",
              "      <td>0.000000</td>\n",
              "      <td>33.126341</td>\n",
              "      <td>0.000000</td>\n",
              "      <td>0.000000e+00</td>\n",
              "      <td>-1.000000e+02</td>\n",
              "      <td>-0.047766</td>\n",
              "      <td>-0.047877</td>\n",
              "      <td>-61.500000</td>\n",
              "      <td>33.125000</td>\n",
              "      <td>-0.002036</td>\n",
              "      <td>-1.000000</td>\n",
              "    </tr>\n",
              "    <tr>\n",
              "      <th>50%</th>\n",
              "      <td>89.300000</td>\n",
              "      <td>100.000000</td>\n",
              "      <td>0.000000</td>\n",
              "      <td>0.000000</td>\n",
              "      <td>0.000000</td>\n",
              "      <td>89.920000</td>\n",
              "      <td>100.000000</td>\n",
              "      <td>0.000000</td>\n",
              "      <td>0.000000</td>\n",
              "      <td>0.000000</td>\n",
              "      <td>0.000000</td>\n",
              "      <td>0.000000</td>\n",
              "      <td>0.060000</td>\n",
              "      <td>89.766001</td>\n",
              "      <td>89.766001</td>\n",
              "      <td>89.765975</td>\n",
              "      <td>50.000000</td>\n",
              "      <td>90.003596</td>\n",
              "      <td>0.000000</td>\n",
              "      <td>4.285966e+00</td>\n",
              "      <td>-9.571403e+01</td>\n",
              "      <td>-0.002781</td>\n",
              "      <td>-0.002841</td>\n",
              "      <td>1.000000</td>\n",
              "      <td>89.766001</td>\n",
              "      <td>0.000000</td>\n",
              "      <td>-1.000000</td>\n",
              "    </tr>\n",
              "    <tr>\n",
              "      <th>95%</th>\n",
              "      <td>195.730000</td>\n",
              "      <td>300.000000</td>\n",
              "      <td>0.080000</td>\n",
              "      <td>35.800000</td>\n",
              "      <td>100.000000</td>\n",
              "      <td>196.150000</td>\n",
              "      <td>208.000000</td>\n",
              "      <td>0.070000</td>\n",
              "      <td>0.000000</td>\n",
              "      <td>100.000000</td>\n",
              "      <td>100.000000</td>\n",
              "      <td>1.000000</td>\n",
              "      <td>2.590000</td>\n",
              "      <td>200.746038</td>\n",
              "      <td>200.746038</td>\n",
              "      <td>200.714573</td>\n",
              "      <td>100.000000</td>\n",
              "      <td>197.283386</td>\n",
              "      <td>100.000000</td>\n",
              "      <td>1.000000e+02</td>\n",
              "      <td>-0.000000e+00</td>\n",
              "      <td>0.040754</td>\n",
              "      <td>0.041236</td>\n",
              "      <td>67.666667</td>\n",
              "      <td>200.738636</td>\n",
              "      <td>0.001302</td>\n",
              "      <td>1.000000</td>\n",
              "    </tr>\n",
              "    <tr>\n",
              "      <th>96%</th>\n",
              "      <td>199.170000</td>\n",
              "      <td>300.000000</td>\n",
              "      <td>0.110000</td>\n",
              "      <td>100.000000</td>\n",
              "      <td>100.000000</td>\n",
              "      <td>200.310000</td>\n",
              "      <td>300.000000</td>\n",
              "      <td>0.110000</td>\n",
              "      <td>100.000000</td>\n",
              "      <td>100.000000</td>\n",
              "      <td>100.000000</td>\n",
              "      <td>1.000000</td>\n",
              "      <td>3.670000</td>\n",
              "      <td>220.086594</td>\n",
              "      <td>220.086594</td>\n",
              "      <td>220.086594</td>\n",
              "      <td>121.750000</td>\n",
              "      <td>213.741288</td>\n",
              "      <td>100.000000</td>\n",
              "      <td>1.000000e+02</td>\n",
              "      <td>-0.000000e+00</td>\n",
              "      <td>0.052131</td>\n",
              "      <td>0.052113</td>\n",
              "      <td>82.068539</td>\n",
              "      <td>220.086594</td>\n",
              "      <td>0.001855</td>\n",
              "      <td>1.000000</td>\n",
              "    </tr>\n",
              "    <tr>\n",
              "      <th>97%</th>\n",
              "      <td>217.570000</td>\n",
              "      <td>325.000000</td>\n",
              "      <td>0.160000</td>\n",
              "      <td>100.000000</td>\n",
              "      <td>100.000000</td>\n",
              "      <td>218.910000</td>\n",
              "      <td>300.000000</td>\n",
              "      <td>0.160000</td>\n",
              "      <td>100.000000</td>\n",
              "      <td>100.000000</td>\n",
              "      <td>100.000000</td>\n",
              "      <td>1.000000</td>\n",
              "      <td>5.390000</td>\n",
              "      <td>220.788352</td>\n",
              "      <td>220.784852</td>\n",
              "      <td>220.783716</td>\n",
              "      <td>150.000000</td>\n",
              "      <td>219.585182</td>\n",
              "      <td>100.000000</td>\n",
              "      <td>1.000000e+02</td>\n",
              "      <td>-0.000000e+00</td>\n",
              "      <td>0.073288</td>\n",
              "      <td>0.074043</td>\n",
              "      <td>101.000000</td>\n",
              "      <td>220.784852</td>\n",
              "      <td>0.002739</td>\n",
              "      <td>1.000000</td>\n",
              "    </tr>\n",
              "    <tr>\n",
              "      <th>98%</th>\n",
              "      <td>220.240000</td>\n",
              "      <td>525.000000</td>\n",
              "      <td>0.250000</td>\n",
              "      <td>100.000000</td>\n",
              "      <td>100.000000</td>\n",
              "      <td>221.000000</td>\n",
              "      <td>396.000000</td>\n",
              "      <td>0.260000</td>\n",
              "      <td>100.000000</td>\n",
              "      <td>100.000000</td>\n",
              "      <td>172.560000</td>\n",
              "      <td>1.000000</td>\n",
              "      <td>9.550000</td>\n",
              "      <td>221.152710</td>\n",
              "      <td>221.152710</td>\n",
              "      <td>221.152710</td>\n",
              "      <td>182.500000</td>\n",
              "      <td>221.871513</td>\n",
              "      <td>100.000000</td>\n",
              "      <td>1.000000e+02</td>\n",
              "      <td>-0.000000e+00</td>\n",
              "      <td>0.112444</td>\n",
              "      <td>0.114448</td>\n",
              "      <td>101.000000</td>\n",
              "      <td>221.152710</td>\n",
              "      <td>0.005012</td>\n",
              "      <td>1.000000</td>\n",
              "    </tr>\n",
              "    <tr>\n",
              "      <th>max</th>\n",
              "      <td>226.980000</td>\n",
              "      <td>71206.000000</td>\n",
              "      <td>201.030000</td>\n",
              "      <td>70906.000000</td>\n",
              "      <td>71206.000000</td>\n",
              "      <td>318.010000</td>\n",
              "      <td>39463.000000</td>\n",
              "      <td>217.500000</td>\n",
              "      <td>39463.000000</td>\n",
              "      <td>8613.000000</td>\n",
              "      <td>71206.000000</td>\n",
              "      <td>1.000000</td>\n",
              "      <td>228.000000</td>\n",
              "      <td>232.502887</td>\n",
              "      <td>232.502887</td>\n",
              "      <td>232.502887</td>\n",
              "      <td>4500.000000</td>\n",
              "      <td>232.766949</td>\n",
              "      <td>100.000000</td>\n",
              "      <td>1.000000e+02</td>\n",
              "      <td>3.584465e-10</td>\n",
              "      <td>7.577438</td>\n",
              "      <td>6.748312</td>\n",
              "      <td>2272.714286</td>\n",
              "      <td>232.502887</td>\n",
              "      <td>137.998729</td>\n",
              "      <td>1.000000</td>\n",
              "    </tr>\n",
              "  </tbody>\n",
              "</table>\n",
              "</div>"
            ],
            "text/plain": [
              "          bid_price      bid_size  ...          diff  return_label\n",
              "count  74723.000000  74723.000000  ...  77447.000000  78070.000000\n",
              "mean      93.412821    112.454920  ...     -0.001917     -0.737646\n",
              "std       50.846258    395.273779  ...      1.330974      0.675192\n",
              "min       21.800000      0.000000  ...   -139.960715     -1.000000\n",
              "5%        28.590000      0.000000  ...     -0.006063     -1.000000\n",
              "8%        30.980000      0.000000  ...     -0.003245     -1.000000\n",
              "10%       32.360000      0.000000  ...     -0.002036     -1.000000\n",
              "50%       89.300000    100.000000  ...      0.000000     -1.000000\n",
              "95%      195.730000    300.000000  ...      0.001302      1.000000\n",
              "96%      199.170000    300.000000  ...      0.001855      1.000000\n",
              "97%      217.570000    325.000000  ...      0.002739      1.000000\n",
              "98%      220.240000    525.000000  ...      0.005012      1.000000\n",
              "max      226.980000  71206.000000  ...    137.998729      1.000000\n",
              "\n",
              "[13 rows x 27 columns]"
            ]
          },
          "metadata": {
            "tags": []
          },
          "execution_count": 13
        }
      ]
    },
    {
      "cell_type": "code",
      "metadata": {
        "id": "OoRI0x3j8xVv"
      },
      "source": [
        "check_corr = dow_323.loc[:, [\"symbol\", \"timestamp\", \"VOI\",\"OIR\",\"bid_ask_spread\",\"EWM\",\"OBV\",\"return_label\"]]"
      ],
      "execution_count": 14,
      "outputs": []
    },
    {
      "cell_type": "code",
      "metadata": {
        "id": "OBXBDtvj6lMY",
        "outputId": "297d37c9-4f34-420d-a44c-034c559aa1f5",
        "colab": {
          "base_uri": "https://localhost:8080/",
          "height": 488
        }
      },
      "source": [
        "# Check correlation\n",
        "import seaborn as sns\n",
        "f,ax = plt.subplots(figsize=(12,8))\n",
        "sns.heatmap(check_corr[check_corr['symbol'] == 'AAPL'].corr(),ax=ax,annot=True,cmap='Greens');"
      ],
      "execution_count": 15,
      "outputs": [
        {
          "output_type": "display_data",
          "data": {
            "image/png": "[encoded data removed]",
            "text/plain": [
              "<Figure size 864x576 with 2 Axes>"
            ]
          },
          "metadata": {
            "tags": [],
            "needs_background": "light"
          }
        }
      ]
    },
    {
      "cell_type": "code",
      "metadata": {
        "id": "5-xGqGSt54CQ"
      },
      "source": [
        "dow_323 = dow_323.loc[:, [\"symbol\", \"timestamp\", \"VOI\", \"OIR\", \"bid_ask_spread\", \"EWM\", \"OBV\", \"VWAP_mean\", \"return_label\"]]\n",
        "dow_324 = dow_324.loc[:, [\"symbol\", \"timestamp\", \"VOI\", \"OIR\", \"bid_ask_spread\", \"EWM\", \"OBV\", \"VWAP_mean\", \"return_label\", \"diff\"]]"
      ],
      "execution_count": 16,
      "outputs": []
    },
    {
      "cell_type": "code",
      "metadata": {
        "id": "0YHaaBClwXoL"
      },
      "source": [
        "dow_323 = dow_323.dropna()\n",
        "dow_324 = dow_324.dropna()"
      ],
      "execution_count": 17,
      "outputs": []
    },
    {
      "cell_type": "markdown",
      "metadata": {
        "id": "g8bN602_wF6P"
      },
      "source": [
        "### Data Preprocessing: 2~3 tickers (Prediction data 1 day: dow_323)"
      ]
    },
    {
      "cell_type": "code",
      "metadata": {
        "id": "MHcNoYyswMSb"
      },
      "source": [
        "df_aapl = dow_323[dow_323['symbol'] == 'AAPL'] #Tech\n",
        "df_wmt = dow_323[dow_323['symbol'] == 'WMT']  #retail\n",
        "df_jnj = dow_323[dow_323['symbol'] == 'JNJ']  #pharmaceutical"
      ],
      "execution_count": 18,
      "outputs": []
    },
    {
      "cell_type": "code",
      "metadata": {
        "id": "IZ7P7v6vwBWg"
      },
      "source": [
        "df_aapl_324 = dow_324[dow_324['symbol'] == 'AAPL'] #Tech\n",
        "df_wmt_324 = dow_324[dow_324['symbol'] == 'WMT']  #retail\n",
        "df_jnj_324 = dow_324[dow_324['symbol'] == 'JNJ']  #pharmaceutical"
      ],
      "execution_count": 19,
      "outputs": []
    },
    {
      "cell_type": "markdown",
      "metadata": {
        "id": "xgVkFoNLwROW"
      },
      "source": [
        "## Classification: RandomForestClassification/ Logistic Regression/ SVC"
      ]
    },
    {
      "cell_type": "code",
      "metadata": {
        "id": "TJn4feM0wXyr"
      },
      "source": [
        "#libraries\n",
        "from sklearn.ensemble import RandomForestClassifier\n",
        "from sklearn.preprocessing import StandardScaler\n",
        "from sklearn.model_selection import GridSearchCV\n",
        "from sklearn.metrics import classification_report, confusion_matrix, accuracy_score"
      ],
      "execution_count": 20,
      "outputs": []
    },
    {
      "cell_type": "code",
      "metadata": {
        "id": "rKfwNYwYwZu_"
      },
      "source": [
        "y= df_aapl[\"return_label\"]\n",
        "X= df_aapl.drop(columns=[\"symbol\",\"timestamp\",\"return_label\", \"VWAP_mean\"], axis=1)"
      ],
      "execution_count": 21,
      "outputs": []
    },
    {
      "cell_type": "code",
      "metadata": {
        "id": "jEv08itgxg6j"
      },
      "source": [
        "scaler = StandardScaler()\n",
        "X_scale = pd.DataFrame(scaler.fit_transform(X), columns=X.columns)"
      ],
      "execution_count": 22,
      "outputs": []
    },
    {
      "cell_type": "code",
      "metadata": {
        "id": "JZRT9ajsyW1W",
        "outputId": "7f380eb5-4e84-499f-d993-6fcca5f665f4",
        "colab": {
          "base_uri": "https://localhost:8080/",
          "height": 340
        }
      },
      "source": [
        "rfc = RandomForestClassifier(random_state=42)\n",
        "\n",
        "\n",
        "parameters = {'n_estimators': np.arange(50,300,50)}\n",
        "\n",
        "rfc_ = GridSearchCV(rfc, parameters)\n",
        "rfc_.fit(X_scale, y)"
      ],
      "execution_count": 23,
      "outputs": [
        {
          "output_type": "execute_result",
          "data": {
            "text/plain": [
              "GridSearchCV(cv=None, error_score=nan,\n",
              "             estimator=RandomForestClassifier(bootstrap=True, ccp_alpha=0.0,\n",
              "                                              class_weight=None,\n",
              "                                              criterion='gini', max_depth=None,\n",
              "                                              max_features='auto',\n",
              "                                              max_leaf_nodes=None,\n",
              "                                              max_samples=None,\n",
              "                                              min_impurity_decrease=0.0,\n",
              "                                              min_impurity_split=None,\n",
              "                                              min_samples_leaf=1,\n",
              "                                              min_samples_split=2,\n",
              "                                              min_weight_fraction_leaf=0.0,\n",
              "                                              n_estimators=100, n_jobs=None,\n",
              "                                              oob_score=False, random_state=42,\n",
              "                                              verbose=0, warm_start=False),\n",
              "             iid='deprecated', n_jobs=None,\n",
              "             param_grid={'n_estimators': array([ 50, 100, 150, 200, 250])},\n",
              "             pre_dispatch='2*n_jobs', refit=True, return_train_score=False,\n",
              "             scoring=None, verbose=0)"
            ]
          },
          "metadata": {
            "tags": []
          },
          "execution_count": 23
        }
      ]
    },
    {
      "cell_type": "code",
      "metadata": {
        "id": "fJemyqyVzT2r",
        "outputId": "9b907671-0b2c-4ee1-f06e-b3b004cfae58",
        "colab": {
          "base_uri": "https://localhost:8080/",
          "height": 34
        }
      },
      "source": [
        "rfc_.best_params_"
      ],
      "execution_count": 24,
      "outputs": [
        {
          "output_type": "execute_result",
          "data": {
            "text/plain": [
              "{'n_estimators': 50}"
            ]
          },
          "metadata": {
            "tags": []
          },
          "execution_count": 24
        }
      ]
    },
    {
      "cell_type": "code",
      "metadata": {
        "id": "_M7BkEIBzxhk"
      },
      "source": [
        "y_test = df_aapl_324[\"return_label\"]\n",
        "X_test = df_aapl_324.drop(columns=[\"symbol\", \"timestamp\", \"return_label\", \"VWAP_mean\", \"diff\"], axis=1)"
      ],
      "execution_count": 25,
      "outputs": []
    },
    {
      "cell_type": "code",
      "metadata": {
        "id": "UDqQhnSl40fE"
      },
      "source": [
        "y_pred = rfc_.predict(X_test)"
      ],
      "execution_count": 26,
      "outputs": []
    },
    {
      "cell_type": "code",
      "metadata": {
        "id": "x5zBDjtP483l",
        "outputId": "816eeb18-2d77-4d18-bdb8-577d0ca3a2bc",
        "colab": {
          "base_uri": "https://localhost:8080/",
          "height": 170
        }
      },
      "source": [
        "print(classification_report(y_test,y_pred))"
      ],
      "execution_count": 27,
      "outputs": [
        {
          "output_type": "stream",
          "text": [
            "              precision    recall  f1-score   support\n",
            "\n",
            "          -1       0.75      0.03      0.05      1782\n",
            "           1       0.24      0.97      0.39       574\n",
            "\n",
            "    accuracy                           0.26      2356\n",
            "   macro avg       0.50      0.50      0.22      2356\n",
            "weighted avg       0.63      0.26      0.13      2356\n",
            "\n"
          ],
          "name": "stdout"
        }
      ]
    },
    {
      "cell_type": "code",
      "metadata": {
        "id": "0DPMx4uyX-wO",
        "outputId": "146a8cb3-cb29-4ec9-9839-7ffe4f363481",
        "colab": {
          "base_uri": "https://localhost:8080/",
          "height": 34
        }
      },
      "source": [
        "print(accuracy_score(y_test, y_pred))"
      ],
      "execution_count": 28,
      "outputs": [
        {
          "output_type": "stream",
          "text": [
            "0.2567911714770798\n"
          ],
          "name": "stdout"
        }
      ]
    },
    {
      "cell_type": "markdown",
      "metadata": {
        "id": "kcHcr0C03gQn"
      },
      "source": [
        "### KNN"
      ]
    },
    {
      "cell_type": "code",
      "metadata": {
        "id": "pVcegDT43ip8",
        "outputId": "34818d1e-67bd-4296-fcc6-51dfb2c188c6",
        "colab": {
          "base_uri": "https://localhost:8080/",
          "height": 204
        }
      },
      "source": [
        "from sklearn.neighbors import KNeighborsClassifier\n",
        "knn = KNeighborsClassifier()\n",
        "\n",
        "\n",
        "parameters1 = {'n_neighbors': np.arange(1,10),\n",
        "               'leaf_size': [25,30,35,40]}\n",
        "\n",
        "knn_grid = GridSearchCV(knn, parameters1)\n",
        "knn_grid.fit(X_scale, y)"
      ],
      "execution_count": 34,
      "outputs": [
        {
          "output_type": "execute_result",
          "data": {
            "text/plain": [
              "GridSearchCV(cv=None, error_score=nan,\n",
              "             estimator=KNeighborsClassifier(algorithm='auto', leaf_size=30,\n",
              "                                            metric='minkowski',\n",
              "                                            metric_params=None, n_jobs=None,\n",
              "                                            n_neighbors=5, p=2,\n",
              "                                            weights='uniform'),\n",
              "             iid='deprecated', n_jobs=None,\n",
              "             param_grid={'leaf_size': [25, 30, 35, 40],\n",
              "                         'n_neighbors': array([1, 2, 3, 4, 5, 6, 7, 8, 9])},\n",
              "             pre_dispatch='2*n_jobs', refit=True, return_train_score=False,\n",
              "             scoring=None, verbose=0)"
            ]
          },
          "metadata": {
            "tags": []
          },
          "execution_count": 34
        }
      ]
    },
    {
      "cell_type": "code",
      "metadata": {
        "id": "OKSOSA6H4DvI",
        "outputId": "dfbd47ff-3c18-4e74-a3fa-cecd8e5b570e",
        "colab": {
          "base_uri": "https://localhost:8080/",
          "height": 34
        }
      },
      "source": [
        "knn_grid.best_params_"
      ],
      "execution_count": 35,
      "outputs": [
        {
          "output_type": "execute_result",
          "data": {
            "text/plain": [
              "{'leaf_size': 35, 'n_neighbors': 8}"
            ]
          },
          "metadata": {
            "tags": []
          },
          "execution_count": 35
        }
      ]
    },
    {
      "cell_type": "code",
      "metadata": {
        "id": "VBt-dyUF4GIK",
        "outputId": "ed30a472-c47c-4d45-df91-7c48df9c5841",
        "colab": {
          "base_uri": "https://localhost:8080/",
          "height": 34
        }
      },
      "source": [
        "knn_grid.score(X_test, y_test)"
      ],
      "execution_count": 36,
      "outputs": [
        {
          "output_type": "execute_result",
          "data": {
            "text/plain": [
              "0.682937181663837"
            ]
          },
          "metadata": {
            "tags": []
          },
          "execution_count": 36
        }
      ]
    },
    {
      "cell_type": "code",
      "metadata": {
        "id": "q45jirE95tkT"
      },
      "source": [
        "y_pred_knn = knn_grid.predict(X_test)"
      ],
      "execution_count": 37,
      "outputs": []
    },
    {
      "cell_type": "code",
      "metadata": {
        "id": "SVtdlMu5648S",
        "outputId": "e6aba704-ab1e-4fe8-d1aa-f431c8e1cd50",
        "colab": {
          "base_uri": "https://localhost:8080/",
          "height": 170
        }
      },
      "source": [
        "print(classification_report(y_test,y_pred_knn))"
      ],
      "execution_count": 38,
      "outputs": [
        {
          "output_type": "stream",
          "text": [
            "              precision    recall  f1-score   support\n",
            "\n",
            "          -1       0.79      0.79      0.79      1782\n",
            "           1       0.35      0.36      0.36       574\n",
            "\n",
            "    accuracy                           0.68      2356\n",
            "   macro avg       0.57      0.57      0.57      2356\n",
            "weighted avg       0.69      0.68      0.68      2356\n",
            "\n"
          ],
          "name": "stdout"
        }
      ]
    },
    {
      "cell_type": "code",
      "metadata": {
        "id": "2DqNzrR_8Upt"
      },
      "source": [
        ""
      ],
      "execution_count": null,
      "outputs": []
    },
    {
      "cell_type": "markdown",
      "metadata": {
        "id": "fWVkH1pS8V0H"
      },
      "source": [
        "### SVC"
      ]
    },
    {
      "cell_type": "code",
      "metadata": {
        "id": "aPPc9xJf8cHW",
        "outputId": "d2cf9c44-284a-48f9-9ebb-1e8cb9210eca",
        "colab": {
          "base_uri": "https://localhost:8080/",
          "height": 221
        }
      },
      "source": [
        "from sklearn.svm import SVC\n",
        "\n",
        "svc = SVC()\n",
        "\n",
        "parameters2 = {'C': np.arange(1, 20)}\n",
        "\n",
        "svc_grid = GridSearchCV(svc, parameters2)\n",
        "svc_grid.fit(X_scale, y)"
      ],
      "execution_count": 39,
      "outputs": [
        {
          "output_type": "execute_result",
          "data": {
            "text/plain": [
              "GridSearchCV(cv=None, error_score=nan,\n",
              "             estimator=SVC(C=1.0, break_ties=False, cache_size=200,\n",
              "                           class_weight=None, coef0=0.0,\n",
              "                           decision_function_shape='ovr', degree=3,\n",
              "                           gamma='scale', kernel='rbf', max_iter=-1,\n",
              "                           probability=False, random_state=None, shrinking=True,\n",
              "                           tol=0.001, verbose=False),\n",
              "             iid='deprecated', n_jobs=None,\n",
              "             param_grid={'C': array([ 1,  2,  3,  4,  5,  6,  7,  8,  9, 10, 11, 12, 13, 14, 15, 16, 17,\n",
              "       18, 19])},\n",
              "             pre_dispatch='2*n_jobs', refit=True, return_train_score=False,\n",
              "             scoring=None, verbose=0)"
            ]
          },
          "metadata": {
            "tags": []
          },
          "execution_count": 39
        }
      ]
    },
    {
      "cell_type": "code",
      "metadata": {
        "id": "GqkPjn9A9oHv",
        "outputId": "1d2bc7e0-5158-49cb-c378-5cf352b744ca",
        "colab": {
          "base_uri": "https://localhost:8080/",
          "height": 34
        }
      },
      "source": [
        "svc_grid.best_params_"
      ],
      "execution_count": 40,
      "outputs": [
        {
          "output_type": "execute_result",
          "data": {
            "text/plain": [
              "{'C': 1}"
            ]
          },
          "metadata": {
            "tags": []
          },
          "execution_count": 40
        }
      ]
    },
    {
      "cell_type": "code",
      "metadata": {
        "id": "hqZf1Gmh9uSa",
        "outputId": "42e05596-0890-4957-e1e2-f4ca1bc08d5d",
        "colab": {
          "base_uri": "https://localhost:8080/",
          "height": 34
        }
      },
      "source": [
        "svc_grid.score(X_test, y_test)"
      ],
      "execution_count": 41,
      "outputs": [
        {
          "output_type": "execute_result",
          "data": {
            "text/plain": [
              "0.7563667232597623"
            ]
          },
          "metadata": {
            "tags": []
          },
          "execution_count": 41
        }
      ]
    },
    {
      "cell_type": "code",
      "metadata": {
        "id": "EdjEUvUvbJNa"
      },
      "source": [
        "y_pred_svc = svc_grid.predict(X_test)"
      ],
      "execution_count": 42,
      "outputs": []
    },
    {
      "cell_type": "code",
      "metadata": {
        "id": "L7K2IXtTbO_x",
        "outputId": "ef37fdbd-25fa-44b6-8b49-4274f421aea2",
        "colab": {
          "base_uri": "https://localhost:8080/",
          "height": 224
        }
      },
      "source": [
        "print(classification_report(y_test,y_pred_svc))"
      ],
      "execution_count": 43,
      "outputs": [
        {
          "output_type": "stream",
          "text": [
            "              precision    recall  f1-score   support\n",
            "\n",
            "          -1       0.76      1.00      0.86      1782\n",
            "           1       0.00      0.00      0.00       574\n",
            "\n",
            "    accuracy                           0.76      2356\n",
            "   macro avg       0.38      0.50      0.43      2356\n",
            "weighted avg       0.57      0.76      0.65      2356\n",
            "\n"
          ],
          "name": "stdout"
        },
        {
          "output_type": "stream",
          "text": [
            "/usr/local/lib/python3.6/dist-packages/sklearn/metrics/_classification.py:1272: UndefinedMetricWarning: Precision and F-score are ill-defined and being set to 0.0 in labels with no predicted samples. Use `zero_division` parameter to control this behavior.\n",
            "  _warn_prf(average, modifier, msg_start, len(result))\n"
          ],
          "name": "stderr"
        }
      ]
    },
    {
      "cell_type": "code",
      "metadata": {
        "id": "-lREnZiC-K7X",
        "outputId": "ffa4cc04-61e9-48ee-bf8d-c1efd121d625",
        "colab": {
          "base_uri": "https://localhost:8080/",
          "height": 287
        }
      },
      "source": [
        "import seaborn as sns\n",
        "sns.heatmap(X_scale.corr())"
      ],
      "execution_count": 44,
      "outputs": [
        {
          "output_type": "execute_result",
          "data": {
            "text/plain": [
              "<matplotlib.axes._subplots.AxesSubplot at 0x7fef5d58c828>"
            ]
          },
          "metadata": {
            "tags": []
          },
          "execution_count": 44
        },
        {
          "output_type": "display_data",
          "data": {
            "image/png": "[encoded data removed]",
            "text/plain": [
              "<Figure size 432x288 with 2 Axes>"
            ]
          },
          "metadata": {
            "tags": [],
            "needs_background": "light"
          }
        }
      ]
    },
    {
      "cell_type": "markdown",
      "metadata": {
        "id": "N-L2amGf9J8W"
      },
      "source": [
        "### Visualization: Prediction\n",
        "- https://blog.quantinsti.com/machine-learning-classification-strategy-python/"
      ]
    },
    {
      "cell_type": "code",
      "metadata": {
        "id": "mLqNk1UYIoh5",
        "outputId": "22fbeff7-58bd-4a2c-ea0e-402d75696a01",
        "colab": {
          "base_uri": "https://localhost:8080/",
          "height": 626
        }
      },
      "source": [
        "df_aapl_324['Predicted_Signal'] = svc_grid.predict(X_test)\n",
        "# Calculate log returns\n",
        "df_aapl_324['Return'] = df_aapl_324['VWAP_mean'].pct_change().shift(-1)\n",
        "df_aapl_324['Strategy_Return'] = df_aapl_324['Return'] * df_aapl_324['Predicted_Signal']\n",
        "(1+ df_aapl_324['Strategy_Return']).cumsum().plot(figsize=(10,5))\n",
        "#(1+ df_aapl_324['Strategy_Return']).cumprod().plot()\n",
        "plt.ylabel(\"Strategy Returns (%)\")\n",
        "plt.show()"
      ],
      "execution_count": 45,
      "outputs": [
        {
          "output_type": "stream",
          "text": [
            "/usr/local/lib/python3.6/dist-packages/ipykernel_launcher.py:1: SettingWithCopyWarning: \n",
            "A value is trying to be set on a copy of a slice from a DataFrame.\n",
            "Try using .loc[row_indexer,col_indexer] = value instead\n",
            "\n",
            "See the caveats in the documentation: https://pandas.pydata.org/pandas-docs/stable/user_guide/indexing.html#returning-a-view-versus-a-copy\n",
            "  \"\"\"Entry point for launching an IPython kernel.\n",
            "/usr/local/lib/python3.6/dist-packages/ipykernel_launcher.py:3: SettingWithCopyWarning: \n",
            "A value is trying to be set on a copy of a slice from a DataFrame.\n",
            "Try using .loc[row_indexer,col_indexer] = value instead\n",
            "\n",
            "See the caveats in the documentation: https://pandas.pydata.org/pandas-docs/stable/user_guide/indexing.html#returning-a-view-versus-a-copy\n",
            "  This is separate from the ipykernel package so we can avoid doing imports until\n",
            "/usr/local/lib/python3.6/dist-packages/ipykernel_launcher.py:4: SettingWithCopyWarning: \n",
            "A value is trying to be set on a copy of a slice from a DataFrame.\n",
            "Try using .loc[row_indexer,col_indexer] = value instead\n",
            "\n",
            "See the caveats in the documentation: https://pandas.pydata.org/pandas-docs/stable/user_guide/indexing.html#returning-a-view-versus-a-copy\n",
            "  after removing the cwd from sys.path.\n"
          ],
          "name": "stderr"
        },
        {
          "output_type": "display_data",
          "data": {
            "image/png": "[encoded data removed]",
            "text/plain": [
              "<Figure size 720x360 with 1 Axes>"
            ]
          },
          "metadata": {
            "tags": [],
            "needs_background": "light"
          }
        }
      ]
    },
    {
      "cell_type": "code",
      "metadata": {
        "id": "wfz2Oko1KSnx",
        "outputId": "f05a8379-f416-4d03-d96e-0cc6b3d22058",
        "colab": {
          "base_uri": "https://localhost:8080/",
          "height": 324
        }
      },
      "source": [
        "df_aapl_324.VWAP_mean.plot(figsize=(10,5))\n",
        "plt.ylabel(\"VMAP_mean\")\n",
        "plt.ylim(180, 230)\n",
        "plt.show()"
      ],
      "execution_count": 46,
      "outputs": [
        {
          "output_type": "display_data",
          "data": {
            "image/png": "[encoded data removed]",
            "text/plain": [
              "<Figure size 720x360 with 1 Axes>"
            ]
          },
          "metadata": {
            "tags": [],
            "needs_background": "light"
          }
        }
      ]
    }
  ]
}